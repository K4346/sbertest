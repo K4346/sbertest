{
 "cells": [
  {
   "cell_type": "code",
   "execution_count": 73,
   "outputs": [
    {
     "name": "stdout",
     "output_type": "stream",
     "text": [
      "5467\\00456\n",
      "0405\\00549\n"
     ]
    }
   ],
   "source": [
    "import re\n",
    "\n",
    "\n",
    "def task1(s):\n",
    "    pattern = r\"(\\d{2,4})\\\\(\\d{2,5})\"\n",
    "    matches = re.findall(pattern, s)\n",
    "    for match in matches:\n",
    "        number1 = '0' * (4 - len(match[0])) + match[0]\n",
    "        number2 = '0' * (5 - len(match[1])) + match[1]\n",
    "        print(r'{}\\{}'.format(number1, number2)) # по заданию нужно выводить строки\n",
    "\n",
    "\n",
    "example = r\"Адрес 5467\\456. Номер 405\\549\"\n",
    "task1(example)"
   ],
   "metadata": {
    "collapsed": false,
    "pycharm": {
     "name": "#%%\n"
    }
   }
  },
  {
   "cell_type": "code",
   "execution_count": 78,
   "outputs": [
    {
     "data": {
      "text/plain": "[50.0, 50.0, 90.0, 90.0, 50, 60, 75.0, 75.0]"
     },
     "execution_count": 78,
     "metadata": {},
     "output_type": "execute_result"
    }
   ],
   "source": [
    "def optimization_combinations(comb):\n",
    "    newC=[]\n",
    "    for i in range(len(comb)):\n",
    "        if comb[i][0]!=0:\n",
    "            newC.append(comb[i])\n",
    "    return newC\n",
    "\n",
    "def get_combinations(n, k):\n",
    "    if n == 0:\n",
    "        return [[]]\n",
    "    res = []\n",
    "    for i in range(k+1):\n",
    "        for c in get_combinations(n-1, k-i):\n",
    "            if sum([i]+c)==k:\n",
    "                res.append([i] + c)\n",
    "\n",
    "    return res\n",
    "\n",
    "\n",
    "def get_min_distance_combination(distances, k):\n",
    "    min_max_atm = max(distances)\n",
    "    min_max_combination = [0] * len(distances)\n",
    "    combinations = optimization_combinations(\n",
    "        get_combinations(len(distances), k)\n",
    "    )\n",
    "    for i in range(len(combinations)):\n",
    "        new_atms = []\n",
    "        for j in range(len(combinations[i])):\n",
    "            current_atm = distances[j]\n",
    "            if combinations[i][j] > 0:\n",
    "                current_atm /= combinations[i][j] + 1\n",
    "            new_atms.append(current_atm)\n",
    "\n",
    "        if max(new_atms) < min_max_atm:\n",
    "            min_max_atm = max(new_atms)\n",
    "            min_max_combination = combinations[i]\n",
    "\n",
    "    return min_max_combination\n",
    "\n",
    "\n",
    "def task2(atms, k):\n",
    "    if k==0:\n",
    "        return atms\n",
    "    atms_k = sorted(atms, reverse=True)[:k]\n",
    "    best_comb_for_atms_k = get_min_distance_combination(atms_k, k)\n",
    "    for i in range(len(best_comb_for_atms_k)):\n",
    "        if best_comb_for_atms_k[i] == 0:\n",
    "            continue\n",
    "        atms_index = atms.index(atms_k[i])\n",
    "        del atms[atms_index]\n",
    "        for j in range(best_comb_for_atms_k[i] + 1):\n",
    "            atms.insert(\n",
    "                atms_index,\n",
    "                atms_k[i] / (best_comb_for_atms_k[i] + 1)\n",
    "            )\n",
    "    return atms # по заданию нужно возвращать новый список банкоматов\n",
    "\n",
    "n, k = map(int, input().split())\n",
    "L = [float(input()) for i in range(n)]\n",
    "# L = [100, 180, 50, 60, 150]\n",
    "task2(L, 3)"
   ],
   "metadata": {
    "collapsed": false,
    "pycharm": {
     "name": "#%%\n"
    }
   }
  },
  {
   "cell_type": "code",
   "execution_count": 76,
   "outputs": [
    {
     "data": {
      "text/plain": "8923411005"
     },
     "execution_count": 76,
     "metadata": {},
     "output_type": "execute_result"
    }
   ],
   "source": [
    "def task3(l):\n",
    "    maxLen = len(max(l, key=len))  # для решения проблемы лексикографического сравнение\n",
    "    # например для решения случаев сравнения '1','10' или '5','554'\n",
    "    newList = sorted(l, key=lambda x: x * maxLen, reverse=True)\n",
    "    concatenatedNumbers = ''.join(newList)\n",
    "    return int(concatenatedNumbers)  # по заданию нужно число а не строка\n",
    "\n",
    "\n",
    "example = ['11', '234', '005', '89']\n",
    "task3(example)"
   ],
   "metadata": {
    "collapsed": false,
    "pycharm": {
     "name": "#%%\n"
    }
   }
  },
  {
   "cell_type": "code",
   "execution_count": null,
   "outputs": [],
   "source": [],
   "metadata": {
    "collapsed": false,
    "pycharm": {
     "name": "#%%\n"
    }
   }
  }
 ],
 "metadata": {
  "kernelspec": {
   "display_name": "Python 3",
   "language": "python",
   "name": "python3"
  },
  "language_info": {
   "codemirror_mode": {
    "name": "ipython",
    "version": 2
   },
   "file_extension": ".py",
   "mimetype": "text/x-python",
   "name": "python",
   "nbconvert_exporter": "python",
   "pygments_lexer": "ipython2",
   "version": "2.7.6"
  }
 },
 "nbformat": 4,
 "nbformat_minor": 0
}